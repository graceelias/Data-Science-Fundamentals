{
 "cells": [
  {
   "cell_type": "markdown",
   "metadata": {},
   "source": [
    "# Worksheet 08\n",
    "\n",
    "Name:  Grace Elias\n",
    "UID: U91459237\n",
    "\n",
    "### Topics\n",
    "\n",
    "- Soft Clustering\n",
    "- Clustering Aggregation\n",
    "\n",
    "### Probability Review\n",
    "\n",
    "Read through [the following](https://medium.com/@gallettilance/overview-of-probability-3272b72c82c8)\n",
    "\n",
    "### Soft Clustering\n",
    "\n",
    "We generate 10 data points that come from a normal distribution with mean 5 and variance 1."
   ]
  },
  {
   "cell_type": "code",
   "execution_count": 2,
   "metadata": {},
   "outputs": [
    {
     "name": "stdout",
     "output_type": "stream",
     "text": [
      "[4.352428609156087, 5.189666647666372, 7.14264576632877, 4.42465459480387, 6.680133811680888, 4.887585605662473, 5.0552943015961125, 6.132815111916681, 3.297008356062918, 5.384666804914019]\n"
     ]
    }
   ],
   "source": [
    "import random\n",
    "import numpy as np\n",
    "from sklearn.cluster import KMeans\n",
    "\n",
    "mean = 5\n",
    "stdev = 1\n",
    "\n",
    "s1 = np.random.normal(mean, stdev, 10).tolist()\n",
    "print(s1)"
   ]
  },
  {
   "cell_type": "markdown",
   "metadata": {},
   "source": [
    "a) Generate 10 more data points, this time coming from a normal distribution with mean 8 and variance 1."
   ]
  },
  {
   "cell_type": "code",
   "execution_count": 3,
   "metadata": {},
   "outputs": [
    {
     "name": "stdout",
     "output_type": "stream",
     "text": [
      "[8.82554081913565, 6.945376423630394, 6.897295181135365, 8.977752520944973, 7.9395845102302856, 7.957126395692094, 8.270634466815073, 7.266873761820072, 9.459259236193382, 7.418162985241609]\n"
     ]
    }
   ],
   "source": [
    "s2 = np.random.normal(8, 1, 10).tolist()\n",
    "print(s2)"
   ]
  },
  {
   "cell_type": "markdown",
   "metadata": {},
   "source": [
    "b) Flip a fair coin 10 times. If the coin lands on H, then pick the last data point of `s1` and remove it from `s1`, if T then pick the last data point from `s2` and remove it from `s2`. Add these 10 points to a list called `data`."
   ]
  },
  {
   "cell_type": "code",
   "execution_count": 4,
   "metadata": {},
   "outputs": [
    {
     "name": "stdout",
     "output_type": "stream",
     "text": [
      "[5.384666804914019, 3.297008356062918, 7.418162985241609, 9.459259236193382, 6.132815111916681, 7.266873761820072, 8.270634466815073, 7.957126395692094, 7.9395845102302856, 5.0552943015961125]\n"
     ]
    }
   ],
   "source": [
    "data = []\n",
    "for i in range(10):\n",
    "    # flip coin\n",
    "    coin_output = random.choice([0, 1])\n",
    "    if coin_output == 0: # 0 = H\n",
    "        p1 = s1.pop()\n",
    "        data.append(p1)\n",
    "    else: # 1 = T\n",
    "        p2 = s2.pop()\n",
    "        data.append(p2)\n",
    "print(data)"
   ]
  },
  {
   "cell_type": "markdown",
   "metadata": {},
   "source": [
    "c) This `data` is a Gaussian Mixture Distribution with 2 mixture components. Over the next few questions we will walk through the GMM algorithm to see if we can uncover the parameters we used to generate this data. First, please list all these parameters of the GMM that created `data` and the values we know they have."
   ]
  },
  {
   "cell_type": "markdown",
   "metadata": {},
   "source": [
    "mean and variance of weights of species 1, mean and variance of weights of species 2, probability of species 1, probability of species 2"
   ]
  },
  {
   "cell_type": "markdown",
   "metadata": {},
   "source": [
    "d) Let's assume there are two mixture components (note: we could plot the data and make the observation that there are two clusters). The EM algorithm asks us to start with a random `mean_j`, `variance_j`, `P(S_j)` for each component j. One method we could use to find sensible values for these is to apply K means with k=2 here.\n",
    "\n",
    "1. the centroids would be the estimates of the `mean_j`\n",
    "2. the intra-cluster variance could be the estimate of `variance_j`\n",
    "3. the proportion of points in each cluster could be the estimate of `P(S_j)`\n",
    "\n",
    "Go through this process and list the parameter estimates it gives. Are they close or far from the true values?"
   ]
  },
  {
   "cell_type": "code",
   "execution_count": 13,
   "metadata": {},
   "outputs": [
    {
     "name": "stdout",
     "output_type": "stream",
     "text": [
      "[5.384666804914019, 3.297008356062918, 6.132815111916681, 5.0552943015961125]\n",
      "[7.418162985241609, 9.459259236193382, 7.266873761820072, 8.270634466815073, 7.957126395692094, 7.9395845102302856]\n",
      "P(S_1) = 0.4,  P(S_2) = 0.6\n",
      "mean_1 = 4.967446143622433,  mean_2 = 8.051940225998752\n",
      "var_1 = 1.082559403359471,  var_2 = 0.5113317301307395\n"
     ]
    },
    {
     "name": "stderr",
     "output_type": "stream",
     "text": [
      "/Users/graceelias/opt/anaconda3/lib/python3.8/site-packages/sklearn/cluster/_kmeans.py:1416: FutureWarning: The default value of `n_init` will change from 10 to 'auto' in 1.4. Set the value of `n_init` explicitly to suppress the warning\n",
      "  super()._check_params_vs_input(X, default_n_init=10)\n"
     ]
    }
   ],
   "source": [
    "kmeans = KMeans(2, init='k-means++').fit(X=np.array(data).reshape(-1, 1))\n",
    "\n",
    "s1 = [x[0] for x in filter(lambda x: x[1] == 0, zip(data, kmeans.labels_))]\n",
    "print(s1)\n",
    "s2 = [x[0] for x in filter(lambda x: x[1] == 1, zip(data, kmeans.labels_))]\n",
    "print(s2)\n",
    "\n",
    "prob_s = [ len(s1) / (len(s1) + len(s2)) , len(s2) / (len(s1) + len(s2))]\n",
    "mean = [ sum(s1)/len(s1) , sum(s2)/len(s2)]\n",
    "var = [ sum(map(lambda x : (x - mean[0])**2, s1)) / len(s1) , sum(map(lambda x : (x - mean[1])**2, s2)) / len(s2)]\n",
    "\n",
    "print(\"P(S_1) = \" + str(prob_s[0]) + \",  P(S_2) = \" + str(prob_s[1]))\n",
    "print(\"mean_1 = \" + str(mean[0]) + \",  mean_2 = \" + str(mean[1]))\n",
    "print(\"var_1 = \" + str(var[0]) + \",  var_2 = \" + str(var[1]))"
   ]
  },
  {
   "cell_type": "markdown",
   "metadata": {},
   "source": []
  },
  {
   "cell_type": "markdown",
   "metadata": {},
   "source": [
    "e) For each data point, compute `P(S_j | X_i)`. Comment on which cluster you think each point belongs to based on the estimated probabilities. How does that compare to the truth?"
   ]
  },
  {
   "cell_type": "code",
   "execution_count": 14,
   "metadata": {},
   "outputs": [
    {
     "name": "stdout",
     "output_type": "stream",
     "text": [
      "point =  5.384666804914019\n",
      "probability of observing that point if it came from cluster 0 =  0.3421404424299865\n",
      "probability of observing that point if it came from cluster 1 =  9.62978653371087e-07\n",
      "point =  3.297008356062918\n",
      "probability of observing that point if it came from cluster 0 =  0.11205556656372763\n",
      "probability of observing that point if it came from cluster 1 =  1.3023334831200925e-19\n",
      "point =  7.418162985241609\n",
      "probability of observing that point if it came from cluster 0 =  0.028418888780225218\n",
      "probability of observing that point if it came from cluster 1 =  0.36191813427839864\n",
      "point =  9.459259236193382\n",
      "probability of observing that point if it came from cluster 0 =  6.729546290989604e-05\n",
      "probability of observing that point if it came from cluster 1 =  0.017673737184761066\n",
      "point =  6.132815111916681\n",
      "probability of observing that point if it came from cluster 0 =  0.2064521692871667\n",
      "probability of observing that point if it came from cluster 1 =  0.0006813603538694825\n",
      "point =  7.266873761820072\n",
      "probability of observing that point if it came from cluster 0 =  0.03861576106638602\n",
      "probability of observing that point if it came from cluster 1 =  0.24006837925204935\n",
      "point =  8.270634466815073\n",
      "probability of observing that point if it came from cluster 0 =  0.0035055373889220356\n",
      "probability of observing that point if it came from cluster 1 =  0.7120098739649675\n",
      "point =  7.957126395692094\n",
      "probability of observing that point if it came from cluster 0 =  0.00813403088263725\n",
      "probability of observing that point if it came from cluster 1 =  0.7669044361083328\n",
      "point =  7.9395845102302856\n",
      "probability of observing that point if it came from cluster 0 =  0.008505183335032506\n",
      "probability of observing that point if it came from cluster 1 =  0.7615931497528559\n",
      "point =  5.0552943015961125\n",
      "probability of observing that point if it came from cluster 0 =  0.3673063144886981\n",
      "probability of observing that point if it came from cluster 1 =  2.7180252256915817e-08\n",
      "5.384666804914019\n",
      "Probability of coming from S_1 = 0.9999957781609461\n",
      "Probability of coming from S_2 = 4.221839053829147e-06\n",
      "\n",
      "3.297008356062918\n",
      "Probability of coming from S_1 = 1.0\n",
      "Probability of coming from S_2 = 1.7433317099594108e-18\n",
      "\n",
      "7.418162985241609\n",
      "Probability of coming from S_1 = 0.0497445882578762\n",
      "Probability of coming from S_2 = 0.9502554117421238\n",
      "\n",
      "9.459259236193382\n",
      "Probability of coming from S_1 = 0.0025320081635522573\n",
      "Probability of coming from S_2 = 0.9974679918364477\n",
      "\n",
      "6.132815111916681\n",
      "Probability of coming from S_1 = 0.9950738911997741\n",
      "Probability of coming from S_2 = 0.004926108800225911\n",
      "\n",
      "7.266873761820072\n",
      "Probability of coming from S_1 = 0.09684972615070156\n",
      "Probability of coming from S_2 = 0.9031502738492985\n",
      "\n",
      "8.270634466815073\n",
      "Probability of coming from S_1 = 0.003271554660034858\n",
      "Probability of coming from S_2 = 0.9967284453399652\n",
      "\n",
      "7.957126395692094\n",
      "Probability of coming from S_1 = 0.007021231148112631\n",
      "Probability of coming from S_2 = 0.9929787688518874\n",
      "\n",
      "7.9395845102302856\n",
      "Probability of coming from S_1 = 0.00739006079197651\n",
      "Probability of coming from S_2 = 0.9926099392080235\n",
      "\n",
      "5.0552943015961125\n",
      "Probability of coming from S_1 = 0.9999998890017071\n",
      "Probability of coming from S_2 = 1.109982928463535e-07\n",
      "\n"
     ]
    }
   ],
   "source": [
    "from scipy.stats import norm\n",
    "\n",
    "prob_s0_x = [] # P(S_0 | X_i)\n",
    "prob_s1_x = [] # P(S_1 | X_i)\n",
    "prob_x = [] # P(X_i)\n",
    "\n",
    "k = 2\n",
    "\n",
    "for p in data:\n",
    "    print(\"point = \", p)\n",
    "    pdf_i = []\n",
    "\n",
    "    for j in range(k):\n",
    "        # P(X_i | S_j)\n",
    "        pdf_i.append(norm.pdf(p, mean[j], var[j]))\n",
    "        print(\"probability of observing that point if it came from cluster \" + str(j) + \" = \", pdf_i[j])\n",
    "        # P(S_j) already computed\n",
    "        prob_s[j]\n",
    "\n",
    "    # P(X_i) = P(S_0)P(X_i | S_0) + P(S_1)P(X_i | S_1)\n",
    "    prob_x = prob_s[0] * pdf_i[0] + prob_s[1] * pdf_i[1]\n",
    "\n",
    "    # P(S_j | X_i) = P(X_i | S_j)P(S_j) / P(X_i)\n",
    "    prob_s0_x.append(pdf_i[0] * prob_s[0] / prob_x)\n",
    "    prob_s1_x.append(pdf_i[1] * prob_s[1] / prob_x)\n",
    "\n",
    "probs = zip(data, prob_s0_x, prob_s1_x)\n",
    "for p in probs:\n",
    "    print(p[0])\n",
    "    print(\"Probability of coming from S_1 = \" + str(p[1]))\n",
    "    print(\"Probability of coming from S_2 = \" + str(p[2]))\n",
    "    print()\n"
   ]
  },
  {
   "cell_type": "markdown",
   "metadata": {},
   "source": [
    "f) Having computed `P(S_j | X_i)`, update the estimates of `mean_j`, `var_j`, and `P(S_j)`. How different are these values from the original ones you got from K means? briefly comment."
   ]
  },
  {
   "cell_type": "code",
   "execution_count": 21,
   "metadata": {
    "scrolled": true
   },
   "outputs": [
    {
     "name": "stdout",
     "output_type": "stream",
     "text": [
      "P(S_1) = 0.4,  P(S_2) = 0.6\n",
      "mean_1 = 5.064518101785852,  mean_2 = 8.068266070388521\n",
      "var_1 = 1.2758654185038256,  var_2 = 9.536298716849219\n"
     ]
    }
   ],
   "source": [
    "prob_c = [sum(prob_s0_x)/ len(prob_s0_x), sum(prob_s1_x)/ len(prob_s1_x)]\n",
    "mean = [sum([x[0] * x[1] for x in zip(prob_s0_x, data)]) / sum(prob_s0_x), sum([x[0] * x[1] for x in zip(prob_s1_x, data)]) / sum(prob_s1_x)]\n",
    "var = [sum([x[0] * (x[1] - mean[0]) ** 2 for x in zip(prob_s0_x, data)]) / sum(prob_s0_x), sum([x[0] * (x[1] - mean[0]) ** 2 for x in zip(prob_s1_x, data)]) / sum(prob_s1_x)]\n",
    "\n",
    "print(\"P(S_1) = \" + str(prob_s[0]) + \",  P(S_2) = \" + str(prob_s[1]))\n",
    "print(\"mean_1 = \" + str(mean[0]) + \",  mean_2 = \" + str(mean[1]))\n",
    "print(\"var_1 = \" + str(var[0]) + \",  var_2 = \" + str(var[1]))"
   ]
  },
  {
   "cell_type": "markdown",
   "metadata": {},
   "source": []
  },
  {
   "cell_type": "markdown",
   "metadata": {},
   "source": [
    "g) Update `P(S_j | X_i)`. Comment on any differences or lack thereof you observe."
   ]
  },
  {
   "cell_type": "code",
   "execution_count": null,
   "metadata": {},
   "outputs": [],
   "source": []
  },
  {
   "cell_type": "markdown",
   "metadata": {},
   "source": []
  },
  {
   "cell_type": "markdown",
   "metadata": {},
   "source": [
    "h) Use `P(S_j | X_i)` to create a hard assignment - label each point as belonging to a specific cluster (0 or 1)"
   ]
  },
  {
   "cell_type": "code",
   "execution_count": null,
   "metadata": {},
   "outputs": [],
   "source": []
  }
 ],
 "metadata": {
  "kernelspec": {
   "display_name": "Python 3 (ipykernel)",
   "language": "python",
   "name": "python3"
  },
  "language_info": {
   "codemirror_mode": {
    "name": "ipython",
    "version": 3
   },
   "file_extension": ".py",
   "mimetype": "text/x-python",
   "name": "python",
   "nbconvert_exporter": "python",
   "pygments_lexer": "ipython3",
   "version": "3.8.8"
  },
  "vscode": {
   "interpreter": {
    "hash": "e7370f93d1d0cde622a1f8e1c04877d8463912d04d973331ad4851f04de6915a"
   }
  }
 },
 "nbformat": 4,
 "nbformat_minor": 2
}
